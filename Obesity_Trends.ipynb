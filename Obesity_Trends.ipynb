{
 "cells": [
  {
   "cell_type": "code",
   "execution_count": 17,
   "metadata": {},
   "outputs": [],
   "source": [
    "import numpy as np # linear algebra\n",
    "import pandas as pd # data processing, CSV file I/O (e.g. pd.read_csv)\n",
    "from sklearn.linear_model import LinearRegression\n",
    "import matplotlib.pyplot as plt\n",
    "from sklearn.model_selection import train_test_split"
   ]
  },
  {
   "cell_type": "code",
   "execution_count": 8,
   "metadata": {},
   "outputs": [],
   "source": [
    "# Load the dataset\n",
    "url = r\"D:\\Edyoda\\archive\\Nutrition__Physical_Activity__and_Obesity_-_Behavioral_Risk_Factor_Surveillance_System.csv\"\n",
    "data = pd.read_csv(url)"
   ]
  },
  {
   "cell_type": "code",
   "execution_count": 12,
   "metadata": {},
   "outputs": [
    {
     "name": "stdout",
     "output_type": "stream",
     "text": [
      "Index(['YearStart', 'YearEnd', 'LocationAbbr', 'LocationDesc', 'Datasource',\n",
      "       'Class', 'Topic', 'Question', 'Data_Value_Unit', 'Data_Value_Type',\n",
      "       'Data_Value', 'Data_Value_Alt', 'Data_Value_Footnote_Symbol',\n",
      "       'Data_Value_Footnote', 'Low_Confidence_Limit', 'High_Confidence_Limit ',\n",
      "       'Sample_Size', 'Total', 'Age(years)', 'Education', 'Gender', 'Income',\n",
      "       'Race/Ethnicity', 'GeoLocation', 'ClassID', 'TopicID', 'QuestionID',\n",
      "       'DataValueTypeID', 'LocationID', 'StratificationCategory1',\n",
      "       'Stratification1', 'StratificationCategoryId1', 'StratificationID1'],\n",
      "      dtype='object')\n"
     ]
    }
   ],
   "source": [
    "print(data.columns)"
   ]
  },
  {
   "cell_type": "code",
   "execution_count": 18,
   "metadata": {},
   "outputs": [
    {
     "data": {
      "text/plain": [
       "array([[27.6],\n",
       "       [19.2],\n",
       "       [21.2],\n",
       "       [30.7],\n",
       "       [21.7],\n",
       "       [16.4],\n",
       "       [20.6],\n",
       "       [24.9],\n",
       "       [20.8],\n",
       "       [23.7],\n",
       "       [23.6],\n",
       "       [27.7],\n",
       "       [19.6],\n",
       "       [18.7],\n",
       "       [23.9],\n",
       "       [26.1],\n",
       "       [22.6],\n",
       "       [23.8],\n",
       "       [28.2],\n",
       "       [29.5],\n",
       "       [19.7],\n",
       "       [21.4],\n",
       "       [20.1],\n",
       "       [25.5],\n",
       "       [20.2],\n",
       "       [31.6],\n",
       "       [25. ],\n",
       "       [19.6],\n",
       "       [23.7],\n",
       "       [21.3],\n",
       "       [22.5],\n",
       "       [19.3],\n",
       "       [23.3],\n",
       "       [23.3],\n",
       "       [25.9],\n",
       "       [23.2],\n",
       "       [21.3],\n",
       "       [25. ],\n",
       "       [28.3],\n",
       "       [16.5],\n",
       "       [23.3],\n",
       "       [40.6],\n",
       "       [22.5],\n",
       "       [25.3],\n",
       "       [21.2],\n",
       "       [26.8],\n",
       "       [27.6],\n",
       "       [16.8],\n",
       "       [19. ],\n",
       "       [23.5],\n",
       "       [18.1],\n",
       "       [28.7],\n",
       "       [21.2],\n",
       "       [22.1]])"
      ]
     },
     "execution_count": 18,
     "metadata": {},
     "output_type": "execute_result"
    }
   ],
   "source": [
    "wrangled = data[data['StratificationID1'] == 'OVERALL'][['LocationDesc','Data_Value', 'Question', \"YearStart\" ]]\n",
    "question = wrangled[wrangled['Question'] == 'Percent of adults who engage in no leisure-time physical activity'][['LocationDesc','Data_Value', 'Question', \"YearStart\" ]]\n",
    "x_all = question[question['YearStart'] == 2014][['LocationDesc','Data_Value' ]]\n",
    "x = question[question['YearStart'] == 2014][['Data_Value' ]].values\n",
    "x"
   ]
  },
  {
   "cell_type": "code",
   "execution_count": 19,
   "metadata": {},
   "outputs": [
    {
     "data": {
      "text/plain": [
       "array([[33.5],\n",
       "       [29.7],\n",
       "       [28.9],\n",
       "       [35.9],\n",
       "       [24.7],\n",
       "       [21.3],\n",
       "       [26.3],\n",
       "       [30.7],\n",
       "       [21.7],\n",
       "       [26.2],\n",
       "       [30.5],\n",
       "       [28. ],\n",
       "       [22.1],\n",
       "       [28.9],\n",
       "       [29.3],\n",
       "       [32.7],\n",
       "       [30.9],\n",
       "       [31.3],\n",
       "       [31.6],\n",
       "       [34.9],\n",
       "       [28.2],\n",
       "       [29.6],\n",
       "       [23.3],\n",
       "       [30.7],\n",
       "       [27.6],\n",
       "       [35.5],\n",
       "       [30.2],\n",
       "       [26.4],\n",
       "       [28.9],\n",
       "       [30.2],\n",
       "       [27.7],\n",
       "       [27.4],\n",
       "       [26.9],\n",
       "       [28.4],\n",
       "       [27. ],\n",
       "       [29.7],\n",
       "       [32.2],\n",
       "       [32.6],\n",
       "       [33. ],\n",
       "       [27.9],\n",
       "       [30.2],\n",
       "       [28.3],\n",
       "       [27. ],\n",
       "       [32.1],\n",
       "       [29.8],\n",
       "       [31.2],\n",
       "       [31.9],\n",
       "       [25.7],\n",
       "       [24.8],\n",
       "       [28.5],\n",
       "       [27.3],\n",
       "       [35.7],\n",
       "       [31.2],\n",
       "       [29.5]])"
      ]
     },
     "execution_count": 19,
     "metadata": {},
     "output_type": "execute_result"
    }
   ],
   "source": [
    "wrangled = data[data['StratificationID1'] == 'OVERALL'][['LocationDesc','Data_Value', 'Question', \"YearStart\" ]]\n",
    "year = wrangled[wrangled['Question'] == 'Percent of adults aged 18 years and older who have obesity'][['LocationDesc','Data_Value', 'Question', \"YearStart\" ]]\n",
    "y_all = year[year['YearStart'] == 2014][['LocationDesc','Data_Value' ]]\n",
    "y = year[year['YearStart'] == 2014][['Data_Value' ]].values\n",
    "y"
   ]
  },
  {
   "cell_type": "code",
   "execution_count": 20,
   "metadata": {},
   "outputs": [
    {
     "data": {
      "text/plain": [
       "array([[27.6],\n",
       "       [19.2],\n",
       "       [21.2],\n",
       "       [30.7],\n",
       "       [21.7],\n",
       "       [16.4],\n",
       "       [20.6],\n",
       "       [24.9],\n",
       "       [20.8],\n",
       "       [23.7],\n",
       "       [23.6],\n",
       "       [27.7],\n",
       "       [19.6],\n",
       "       [18.7],\n",
       "       [23.9],\n",
       "       [26.1],\n",
       "       [22.6],\n",
       "       [23.8],\n",
       "       [28.2],\n",
       "       [29.5],\n",
       "       [19.7],\n",
       "       [21.4],\n",
       "       [20.1],\n",
       "       [25.5],\n",
       "       [20.2],\n",
       "       [31.6],\n",
       "       [25. ],\n",
       "       [19.6],\n",
       "       [23.7],\n",
       "       [21.3],\n",
       "       [22.5],\n",
       "       [19.3],\n",
       "       [23.3],\n",
       "       [23.3],\n",
       "       [25.9],\n",
       "       [23.2],\n",
       "       [21.3],\n",
       "       [25. ],\n",
       "       [28.3],\n",
       "       [16.5],\n",
       "       [23.3],\n",
       "       [40.6],\n",
       "       [22.5],\n",
       "       [25.3],\n",
       "       [21.2],\n",
       "       [26.8],\n",
       "       [27.6],\n",
       "       [16.8],\n",
       "       [19. ],\n",
       "       [23.5],\n",
       "       [18.1],\n",
       "       [28.7],\n",
       "       [21.2],\n",
       "       [22.1]])"
      ]
     },
     "execution_count": 20,
     "metadata": {},
     "output_type": "execute_result"
    }
   ],
   "source": [
    "x = x.reshape(-1, 1)\n",
    "x"
   ]
  },
  {
   "cell_type": "code",
   "execution_count": 21,
   "metadata": {},
   "outputs": [
    {
     "data": {
      "text/plain": [
       "array([[33.5],\n",
       "       [29.7],\n",
       "       [28.9],\n",
       "       [35.9],\n",
       "       [24.7],\n",
       "       [21.3],\n",
       "       [26.3],\n",
       "       [30.7],\n",
       "       [21.7],\n",
       "       [26.2],\n",
       "       [30.5],\n",
       "       [28. ],\n",
       "       [22.1],\n",
       "       [28.9],\n",
       "       [29.3],\n",
       "       [32.7],\n",
       "       [30.9],\n",
       "       [31.3],\n",
       "       [31.6],\n",
       "       [34.9],\n",
       "       [28.2],\n",
       "       [29.6],\n",
       "       [23.3],\n",
       "       [30.7],\n",
       "       [27.6],\n",
       "       [35.5],\n",
       "       [30.2],\n",
       "       [26.4],\n",
       "       [28.9],\n",
       "       [30.2],\n",
       "       [27.7],\n",
       "       [27.4],\n",
       "       [26.9],\n",
       "       [28.4],\n",
       "       [27. ],\n",
       "       [29.7],\n",
       "       [32.2],\n",
       "       [32.6],\n",
       "       [33. ],\n",
       "       [27.9],\n",
       "       [30.2],\n",
       "       [28.3],\n",
       "       [27. ],\n",
       "       [32.1],\n",
       "       [29.8],\n",
       "       [31.2],\n",
       "       [31.9],\n",
       "       [25.7],\n",
       "       [24.8],\n",
       "       [28.5],\n",
       "       [27.3],\n",
       "       [35.7],\n",
       "       [31.2],\n",
       "       [29.5]])"
      ]
     },
     "execution_count": 21,
     "metadata": {},
     "output_type": "execute_result"
    }
   ],
   "source": [
    "y = y.reshape(-1, 1)\n",
    "y"
   ]
  },
  {
   "cell_type": "code",
   "execution_count": 22,
   "metadata": {},
   "outputs": [],
   "source": [
    "x_train, x_test, y_train, y_test = train_test_split(x, y, train_size=.8, test_size=.2, random_state=100)"
   ]
  },
  {
   "cell_type": "code",
   "execution_count": 23,
   "metadata": {},
   "outputs": [
    {
     "name": "stdout",
     "output_type": "stream",
     "text": [
      "X Train Data shape(43, 1)\n",
      "y Train Data shape(43, 1)\n",
      "X Test Data shape(11, 1)\n",
      "y Test Data shape(11, 1)\n"
     ]
    }
   ],
   "source": [
    "print(f'X Train Data shape{x_train.shape}')\n",
    "print(f'y Train Data shape{y_train.shape}')\n",
    "print(f'X Test Data shape{x_test.shape}')\n",
    "print(f'y Test Data shape{y_test.shape}')"
   ]
  },
  {
   "cell_type": "code",
   "execution_count": 24,
   "metadata": {},
   "outputs": [
    {
     "data": {
      "image/png": "[encoded data removed]",
      "text/plain": [
       "<Figure size 640x480 with 1 Axes>"
      ]
     },
     "metadata": {},
     "output_type": "display_data"
    }
   ],
   "source": [
    "plt.scatter(x_train, y_train, color='orange')\n",
    "plt.xlabel('% Adults with reporting no leisure Physical Activity')\n",
    "plt.ylabel('% of Adults who have Obesity')\n",
    "plt.title('Physical Data')\n",
    "plt.show()"
   ]
  },
  {
   "cell_type": "code",
   "execution_count": 25,
   "metadata": {},
   "outputs": [],
   "source": [
    "lm = LinearRegression()\n",
    "lm.fit(x_train, y_train)\n",
    "y_predict = lm.predict(x_test)"
   ]
  },
  {
   "cell_type": "code",
   "execution_count": 26,
   "metadata": {},
   "outputs": [
    {
     "name": "stdout",
     "output_type": "stream",
     "text": [
      "Train Accuracy 29.76%\n",
      "Test Accuracy 44.09%\n"
     ]
    }
   ],
   "source": [
    "print(f'Train Accuracy {round(lm.score(x_train, y_train)* 100,2)}%')\n",
    "print(f'Test Accuracy {round(lm.score(x_test, y_test)* 100,2)}%')"
   ]
  },
  {
   "cell_type": "code",
   "execution_count": 27,
   "metadata": {},
   "outputs": [
    {
     "data": {
      "image/png": "[encoded data removed]",
      "text/plain": [
       "<Figure size 640x480 with 1 Axes>"
      ]
     },
     "metadata": {},
     "output_type": "display_data"
    }
   ],
   "source": [
    "plt.scatter(x_train, y_train, color='orange')\n",
    "plt.xlabel('% Adults with reporting no leisure Physical Activity')\n",
    "plt.ylabel('% of Adults who have Obesity')\n",
    "plt.title('Physical Data')\n",
    "plt.show()"
   ]
  },
  {
   "cell_type": "code",
   "execution_count": null,
   "metadata": {},
   "outputs": [],
   "source": []
  }
 ],
 "metadata": {
  "kernelspec": {
   "display_name": "Python 3",
   "language": "python",
   "name": "python3"
  },
  "language_info": {
   "codemirror_mode": {
    "name": "ipython",
    "version": 3
   },
   "file_extension": ".py",
   "mimetype": "text/x-python",
   "name": "python",
   "nbconvert_exporter": "python",
   "pygments_lexer": "ipython3",
   "version": "3.10.0"
  },
  "orig_nbformat": 4
 },
 "nbformat": 4,
 "nbformat_minor": 2
}
