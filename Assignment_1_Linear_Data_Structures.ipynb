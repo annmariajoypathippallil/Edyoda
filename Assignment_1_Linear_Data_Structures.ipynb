{
 "cells": [
  {
   "cell_type": "code",
   "execution_count": 15,
   "id": "dc351e47",
   "metadata": {},
   "outputs": [
    {
     "name": "stdout",
     "output_type": "stream",
     "text": [
      "Enter the size of array:5\n",
      "Enter element number 1 :1\n",
      "Enter element number 2 :2\n",
      "Enter element number 3 :3\n",
      "Enter element number 4 :4\n",
      "Enter element number 5 :5\n",
      "Array: [1, 2, 3, 4, 5]\n",
      "Reversed Array: [5, 4, 3, 2, 1]\n"
     ]
    }
   ],
   "source": [
    "# Q2. Write a program to reverse an array in place? In place means you cannot create a new array. You have to update the original array.\n",
    "\n",
    "\n",
    "size = int(input(\"Enter the size of array:\"))\n",
    "arr = []\n",
    "for i in range(size):\n",
    "     element = int(input(\"Enter element number \"+str(i+1)+\" :\"))\n",
    "     arr.append(element)\n",
    "print(\"Array:\",arr)\n",
    "\n",
    "\n",
    "\n",
    "start = 0\n",
    "end = size-1\n",
    "while start<end:\n",
    "    arr[start],arr[end]=arr[end],arr[start]\n",
    "    start += 1\n",
    "    end -= 1\n",
    "print(\"Reversed Array:\",arr)"
   ]
  },
  {
   "cell_type": "code",
   "execution_count": null,
   "id": "6754941a",
   "metadata": {},
   "outputs": [],
   "source": []
  },
  {
   "cell_type": "code",
   "execution_count": null,
   "id": "9b2e32c8",
   "metadata": {},
   "outputs": [],
   "source": []
  },
  {
   "cell_type": "code",
   "execution_count": 48,
   "id": "e8acfd71",
   "metadata": {},
   "outputs": [
    {
     "name": "stdout",
     "output_type": "stream",
     "text": [
      "Enter the size of array:6\n",
      "Enter element number 1 :1\n",
      "Enter element number 2 :2\n",
      "Enter element number 3 :3\n",
      "Enter element number 4 :1\n",
      "Enter element number 5 :4\n",
      "Enter element number 6 :2\n",
      "Enter the sum of number required:4\n",
      "[[1, 3], [2, 2], [3, 1]]\n"
     ]
    }
   ],
   "source": [
    "# Q1. Write a program to find all pairs of an integer array whose sum is equal to a given number?\n",
    "\n",
    "\n",
    "size = int(input(\"Enter the size of array:\"))\n",
    "arr = []\n",
    "pairs = []\n",
    "for i in range(size):\n",
    "     element = int(input(\"Enter element number \"+str(i+1)+\" :\"))\n",
    "     arr.append(element)\n",
    "Sum_of_numbers = int(input(\"Enter the sum of number required:\"))\n",
    "\n",
    "for i in range(size):\n",
    "    for j in range(i+1,size):\n",
    "        if arr[i]+arr[j] == Sum_of_numbers:\n",
    "            temp_list =[arr[i],arr[j]]\n",
    "            if pairs == temp_list:\n",
    "                continue\n",
    "            else:\n",
    "                pairs.append(temp_list)\n",
    "print(pairs)\n",
    "                \n",
    "            \n",
    "            \n",
    "\n",
    "    \n",
    "    "
   ]
  },
  {
   "cell_type": "code",
   "execution_count": null,
   "id": "69dc3fc5",
   "metadata": {},
   "outputs": [],
   "source": []
  },
  {
   "cell_type": "code",
   "execution_count": null,
   "id": "b313e7b8",
   "metadata": {},
   "outputs": [],
   "source": []
  },
  {
   "cell_type": "code",
   "execution_count": 54,
   "id": "43dee4c1",
   "metadata": {},
   "outputs": [
    {
     "name": "stdout",
     "output_type": "stream",
     "text": [
      "Enter 1st string:hello\n",
      "Enter 2nd string:lohel\n",
      "The strings are rotations of each other.\n"
     ]
    }
   ],
   "source": [
    "# Q3. Write a program to check if two strings are a rotation of each other?\n",
    "\n",
    "def rotation_of_string(str1,str2):\n",
    "    if len(str1) != len(str2):\n",
    "        return False\n",
    "    combinig_string = str1+str1\n",
    "    if str2 in combinig_string:\n",
    "        return True\n",
    "    else:\n",
    "        return False\n",
    "    \n",
    "\n",
    "\n",
    "\n",
    "str1 = input(\"Enter 1st string:\")\n",
    "str2 = input(\"Enter 2nd string:\")\n",
    "res = rotation_of_string(str1,str2)\n",
    "if res:\n",
    "    print(\"The strings are rotations of each other.\")\n",
    "else:\n",
    "    print(\"The strings are not rotations of each other.\")"
   ]
  },
  {
   "cell_type": "code",
   "execution_count": null,
   "id": "73466440",
   "metadata": {},
   "outputs": [],
   "source": []
  },
  {
   "cell_type": "code",
   "execution_count": null,
   "id": "8c504bd3",
   "metadata": {},
   "outputs": [],
   "source": []
  },
  {
   "cell_type": "code",
   "execution_count": 60,
   "id": "51324b33",
   "metadata": {},
   "outputs": [
    {
     "name": "stdout",
     "output_type": "stream",
     "text": [
      "Enter the String:aanaamaa\n",
      "First non repeating character is: n\n"
     ]
    }
   ],
   "source": [
    "# Q4. Write a program to print the first non-repeated character from a string?\n",
    "\n",
    "def first_non_repeting_character(str):\n",
    "    char_count = {}\n",
    "    for char in str:\n",
    "        if char in char_count:\n",
    "            char_count[char] += 1\n",
    "        else:\n",
    "            char_count[char] = 1\n",
    "    for char in char_count:\n",
    "        if char_count[char] == 1:\n",
    "            return char\n",
    "    return False\n",
    "\n",
    "str = input(\"Enter the String:\")\n",
    "res = first_non_repeting_character(str)\n",
    "if res:\n",
    "    print(\"First non repeating character is:\",res)\n",
    "else:\n",
    "     print(\"No non-repeated character found.\")"
   ]
  },
  {
   "cell_type": "code",
   "execution_count": null,
   "id": "3a12fb0b",
   "metadata": {},
   "outputs": [],
   "source": []
  },
  {
   "cell_type": "code",
   "execution_count": null,
   "id": "b691144c",
   "metadata": {},
   "outputs": [],
   "source": []
  },
  {
   "cell_type": "code",
   "execution_count": 61,
   "id": "7dc7eb68",
   "metadata": {},
   "outputs": [
    {
     "name": "stdout",
     "output_type": "stream",
     "text": [
      "Move disk 1 from source A to destination C\n",
      "Move disk 2 from source A to destination B\n",
      "Move disk 1 from source C to destination B\n",
      "Move disk 3 from source A to destination C\n",
      "Move disk 1 from source B to destination A\n",
      "Move disk 2 from source B to destination C\n",
      "Move disk 1 from source A to destination C\n",
      "Move disk 4 from source A to destination B\n",
      "Move disk 1 from source C to destination B\n",
      "Move disk 2 from source C to destination A\n",
      "Move disk 1 from source B to destination A\n",
      "Move disk 3 from source C to destination B\n",
      "Move disk 1 from source A to destination C\n",
      "Move disk 2 from source A to destination B\n",
      "Move disk 1 from source C to destination B\n"
     ]
    }
   ],
   "source": [
    "# Q5. Read about the Tower of Hanoi algorithm. Write a program to implement it.\n",
    "\n",
    "\n",
    "\n",
    "\n",
    "def TowerOfHanoi(n , source, destination, auxiliary):\n",
    "    if n==1:\n",
    "        print (\"Move disk 1 from source\",source,\"to destination\",destination)\n",
    "        return\n",
    "    TowerOfHanoi(n-1, source, auxiliary, destination)\n",
    "    print (\"Move disk\",n,\"from source\",source,\"to destination\",destination)\n",
    "    TowerOfHanoi(n-1, auxiliary, destination, source)\n",
    "\n",
    "\n",
    "n = 4\n",
    "TowerOfHanoi(n,'A','B','C')\n"
   ]
  },
  {
   "cell_type": "code",
   "execution_count": null,
   "id": "c617ae55",
   "metadata": {},
   "outputs": [],
   "source": []
  },
  {
   "cell_type": "code",
   "execution_count": null,
   "id": "b38d0fa4",
   "metadata": {},
   "outputs": [],
   "source": []
  },
  {
   "cell_type": "code",
   "execution_count": 62,
   "id": "d8e5c06a",
   "metadata": {},
   "outputs": [
    {
     "name": "stdout",
     "output_type": "stream",
     "text": [
      "Prefix expression: +23\n"
     ]
    }
   ],
   "source": [
    "#Q6. Read about infix, prefix, and postfix expressions. Write a program to convert postfix to prefix expression\n",
    "\n",
    "\n",
    "\n",
    "def postfix_to_prefix(postfix):\n",
    "    stack = []\n",
    "\n",
    "    for char in postfix:\n",
    "        if char.isalnum():\n",
    "            stack.append(char)\n",
    "        else:\n",
    "            operand2 = stack.pop()\n",
    "            operand1 = stack.pop()\n",
    "            expression = char + operand1 + operand2\n",
    "            stack.append(expression)\n",
    "\n",
    "    return stack[0] if stack else \"\"\n",
    "\n",
    "# Example usage\n",
    "postfix_expression = \"23+45*6-\"\n",
    "prefix_expression = postfix_to_prefix(postfix_expression)\n",
    "print(\"Prefix expression:\", prefix_expression)\n"
   ]
  },
  {
   "cell_type": "code",
   "execution_count": null,
   "id": "54398a2d",
   "metadata": {},
   "outputs": [],
   "source": []
  },
  {
   "cell_type": "code",
   "execution_count": null,
   "id": "60a70e9e",
   "metadata": {},
   "outputs": [],
   "source": []
  },
  {
   "cell_type": "code",
   "execution_count": 63,
   "id": "8cbc8beb",
   "metadata": {},
   "outputs": [
    {
     "name": "stdout",
     "output_type": "stream",
     "text": [
      "Infix expression: (((2+3)*(4*5))-6)\n"
     ]
    }
   ],
   "source": [
    "#Q7. Write a program to convert prefix expression to infix expression\n",
    "\n",
    "\n",
    "def prefix_to_infix(prefix):\n",
    "    stack = []\n",
    "\n",
    "    for char in reversed(prefix):\n",
    "        if char.isalnum():\n",
    "            stack.append(char)\n",
    "        else:\n",
    "            operand1 = stack.pop()\n",
    "            operand2 = stack.pop()\n",
    "            expression = f\"({operand1}{char}{operand2})\"\n",
    "            stack.append(expression)\n",
    "\n",
    "    return stack[0] if stack else \"\"\n",
    "\n",
    "# Example usage\n",
    "prefix_expression = \"-*+23*456\"\n",
    "infix_expression = prefix_to_infix(prefix_expression)\n",
    "print(\"Infix expression:\", infix_expression)\n"
   ]
  },
  {
   "cell_type": "code",
   "execution_count": null,
   "id": "9a46bf9b",
   "metadata": {},
   "outputs": [],
   "source": []
  },
  {
   "cell_type": "code",
   "execution_count": null,
   "id": "fba0563f",
   "metadata": {},
   "outputs": [],
   "source": []
  },
  {
   "cell_type": "code",
   "execution_count": 65,
   "id": "2aeb9039",
   "metadata": {},
   "outputs": [
    {
     "name": "stdout",
     "output_type": "stream",
     "text": [
      "Brackets are not closed properly.\n"
     ]
    }
   ],
   "source": [
    "#Q8. Write a program to check if all the brackets are closed in a given code snippet.\n",
    "\n",
    "def check_brackets(code):\n",
    "    stack = []\n",
    "\n",
    "    opening_brackets = ['(', '[', '{']\n",
    "    closing_brackets = [')', ']', '}']\n",
    "    bracket_pairs = {'(': ')', '[': ']', '{': '}'}\n",
    "\n",
    "    for char in code:\n",
    "        if char in opening_brackets:\n",
    "            stack.append(char)\n",
    "        elif char in closing_brackets:\n",
    "            if not stack or bracket_pairs[stack.pop()] != char:\n",
    "                return False\n",
    "\n",
    "    return len(stack) == 0\n",
    "\n",
    "code_snippet = \"\"\"\n",
    "def hello_world():\n",
    "    print(\"Hello, World!\"\n",
    "\"\"\"\n",
    "\n",
    "if check_brackets(code_snippet):\n",
    "    print(\"All brackets are closed properly.\")\n",
    "else:\n",
    "    print(\"Brackets are not closed properly.\")\n"
   ]
  },
  {
   "cell_type": "code",
   "execution_count": null,
   "id": "4a11e21e",
   "metadata": {},
   "outputs": [],
   "source": []
  },
  {
   "cell_type": "code",
   "execution_count": null,
   "id": "b4d1169c",
   "metadata": {},
   "outputs": [],
   "source": []
  },
  {
   "cell_type": "code",
   "execution_count": 6,
   "id": "650cb570",
   "metadata": {},
   "outputs": [
    {
     "name": "stdout",
     "output_type": "stream",
     "text": [
      "Enter the number of elements in the stack: 6\n",
      "Enter a value to push into the stack: 1\n",
      "Enter a value to push into the stack: 2\n",
      "Enter a value to push into the stack: 3\n",
      "Enter a value to push into the stack: 4\n",
      "Enter a value to push into the stack: 5\n",
      "Enter a value to push into the stack: 6\n",
      "\n",
      "Reversed Stack:\n",
      "6\n",
      "5\n",
      "4\n",
      "3\n",
      "2\n",
      "1\n"
     ]
    }
   ],
   "source": [
    "# Q9. Write a program to reverse a stack.\n",
    "\n",
    "\n",
    "\n",
    "class Stack:\n",
    "    def __init__(self):\n",
    "        self.items = []\n",
    "\n",
    "    def is_empty(self):\n",
    "        return len(self.items) == 0\n",
    "\n",
    "    def push(self, item):\n",
    "        self.items.append(item)\n",
    "\n",
    "    def pop(self):\n",
    "        if self.is_empty():\n",
    "            return None\n",
    "        return self.items.pop()\n",
    "\n",
    "    def peek(self):\n",
    "        if self.is_empty():\n",
    "            return None\n",
    "        return self.items[-1]\n",
    "\n",
    "    def reverse_stack(self):\n",
    "        if not self.is_empty():\n",
    "            item = self.pop()\n",
    "            self.reverse_stack()\n",
    "            self.insert_at_bottom(item)\n",
    "\n",
    "    def insert_at_bottom(self, item):\n",
    "        if self.is_empty():\n",
    "            self.push(item)\n",
    "        else:\n",
    "            temp = self.pop()\n",
    "            self.insert_at_bottom(item)\n",
    "            self.push(temp)\n",
    "\n",
    "\n",
    "stack = Stack()\n",
    "\n",
    "n = int(input(\"Enter the number of elements in the stack: \"))\n",
    "\n",
    "for _ in range(n):\n",
    "    value = int(input(\"Enter a value to push into the stack: \"))\n",
    "    stack.push(value)\n",
    "\n",
    "print(\"\\nReversed Stack:\")\n",
    "while not stack.is_empty():\n",
    "    print(stack.pop())\n",
    "\n"
   ]
  },
  {
   "cell_type": "code",
   "execution_count": null,
   "id": "4ce66518",
   "metadata": {},
   "outputs": [],
   "source": []
  },
  {
   "cell_type": "code",
   "execution_count": null,
   "id": "0c6b0005",
   "metadata": {},
   "outputs": [],
   "source": []
  },
  {
   "cell_type": "code",
   "execution_count": 7,
   "id": "e9cb02f8",
   "metadata": {},
   "outputs": [
    {
     "name": "stdout",
     "output_type": "stream",
     "text": [
      "Enter the number of elements in the stack: 6\n",
      "Enter a value to push into the stack: 1\n",
      "Enter a value to push into the stack: 3\n",
      "Enter a value to push into the stack: 2\n",
      "Enter a value to push into the stack: 4\n",
      "Enter a value to push into the stack: 5\n",
      "Enter a value to push into the stack: 6\n",
      "\n",
      "Smallest number in the stack: 1\n"
     ]
    }
   ],
   "source": [
    "#Q10. Write a program to find the smallest number using a stack.\n",
    "\n",
    "class Stack:\n",
    "    def __init__(self):\n",
    "        self.items = []\n",
    "        self.minimum = None\n",
    "\n",
    "    def is_empty(self):\n",
    "        return len(self.items) == 0\n",
    "\n",
    "    def push(self, item):\n",
    "        if self.is_empty() or item < self.minimum:\n",
    "            self.minimum = item\n",
    "        self.items.append(item)\n",
    "\n",
    "    def pop(self):\n",
    "        if self.is_empty():\n",
    "            return None\n",
    "        return self.items.pop()\n",
    "\n",
    "    def peek(self):\n",
    "        if self.is_empty():\n",
    "            return None\n",
    "        return self.items[-1]\n",
    "\n",
    "    def get_minimum(self):\n",
    "        return self.minimum\n",
    "\n",
    "\n",
    "\n",
    "stack = Stack()\n",
    "\n",
    "n = int(input(\"Enter the number of elements in the stack: \"))\n",
    "\n",
    "for _ in range(n):\n",
    "    value = int(input(\"Enter a value to push into the stack: \"))\n",
    "    stack.push(value)\n",
    "\n",
    "print(\"\\nSmallest number in the stack:\", stack.get_minimum())\n"
   ]
  },
  {
   "cell_type": "code",
   "execution_count": null,
   "id": "6f4b1056",
   "metadata": {},
   "outputs": [],
   "source": []
  }
 ],
 "metadata": {
  "kernelspec": {
   "display_name": "Python 3 (ipykernel)",
   "language": "python",
   "name": "python3"
  },
  "language_info": {
   "codemirror_mode": {
    "name": "ipython",
    "version": 3
   },
   "file_extension": ".py",
   "mimetype": "text/x-python",
   "name": "python",
   "nbconvert_exporter": "python",
   "pygments_lexer": "ipython3",
   "version": "3.11.3"
  }
 },
 "nbformat": 4,
 "nbformat_minor": 5
}
