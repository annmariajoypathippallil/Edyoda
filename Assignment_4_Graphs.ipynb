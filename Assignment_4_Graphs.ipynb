{
 "cells": [
  {
   "cell_type": "code",
   "execution_count": 1,
   "id": "13ec0844",
   "metadata": {},
   "outputs": [
    {
     "name": "stdout",
     "output_type": "stream",
     "text": [
      "BFS Traversal:\n",
      "2 0 3 1 "
     ]
    }
   ],
   "source": [
    "# 1.Breadth First Traversal for a Graph\n",
    "\n",
    "\n",
    "from collections import defaultdict, deque\n",
    "\n",
    "def bfs(graph, start_vertex):\n",
    "    visited = set()\n",
    "    queue = deque([start_vertex])\n",
    "    visited.add(start_vertex)\n",
    "\n",
    "    while queue:\n",
    "        vertex = queue.popleft()\n",
    "        print(vertex, end=\" \")\n",
    "\n",
    "        for neighbor in graph[vertex]:\n",
    "            if neighbor not in visited:\n",
    "                queue.append(neighbor)\n",
    "                visited.add(neighbor)\n",
    "\n",
    "# Example graph represented as an adjacency list\n",
    "graph = defaultdict(list)\n",
    "graph[0] = [1, 2]\n",
    "graph[1] = [2]\n",
    "graph[2] = [0, 3]\n",
    "graph[3] = [3]\n",
    "\n",
    "# Perform BFS traversal starting from vertex 2\n",
    "print(\"BFS Traversal:\")\n",
    "bfs(graph, 2)\n"
   ]
  },
  {
   "cell_type": "code",
   "execution_count": null,
   "id": "ab445f1f",
   "metadata": {},
   "outputs": [],
   "source": []
  },
  {
   "cell_type": "code",
   "execution_count": null,
   "id": "f6673ec0",
   "metadata": {},
   "outputs": [],
   "source": []
  },
  {
   "cell_type": "code",
   "execution_count": 2,
   "id": "a6b78812",
   "metadata": {},
   "outputs": [
    {
     "name": "stdout",
     "output_type": "stream",
     "text": [
      "DFS Traversal:\n",
      "2 0 1 3 "
     ]
    }
   ],
   "source": [
    "# 2.Depth First Traversal for a Graph\n",
    "\n",
    "\n",
    "from collections import defaultdict\n",
    "\n",
    "def dfs(graph, start_vertex):\n",
    "    visited = set()\n",
    "    stack = [start_vertex]\n",
    "\n",
    "    while stack:\n",
    "        vertex = stack.pop()\n",
    "        if vertex not in visited:\n",
    "            print(vertex, end=\" \")\n",
    "            visited.add(vertex)\n",
    "\n",
    "            for neighbor in reversed(graph[vertex]):\n",
    "                if neighbor not in visited:\n",
    "                    stack.append(neighbor)\n",
    "\n",
    "graph = defaultdict(list)\n",
    "graph[0] = [1, 2]\n",
    "graph[1] = [2]\n",
    "graph[2] = [0, 3]\n",
    "graph[3] = [3]\n",
    "\n",
    "# Perform DFS traversal stating from vertex 2\n",
    "print(\"DFS Traversal:\")\n",
    "dfs(graph, 2)\n"
   ]
  },
  {
   "cell_type": "code",
   "execution_count": null,
   "id": "561a6dfa",
   "metadata": {},
   "outputs": [],
   "source": []
  },
  {
   "cell_type": "code",
   "execution_count": 3,
   "id": "fe67e23b",
   "metadata": {},
   "outputs": [
    {
     "name": "stdout",
     "output_type": "stream",
     "text": [
      "Number of nodes at level 2 : 6\n"
     ]
    }
   ],
   "source": [
    "# 3.Count the number of nodes at given level in a tree using BFS\n",
    "\n",
    "\n",
    "\n",
    "from collections import deque\n",
    "\n",
    "def count_nodes_at_level(graph, start_vertex, target_level):\n",
    "    queue = deque([(start_vertex, 0)])  # (vertex, level)\n",
    "    count = 0\n",
    "\n",
    "    while queue:\n",
    "        vertex, level = queue.popleft()\n",
    "\n",
    "        if level == target_level:\n",
    "            count += 1\n",
    "\n",
    "        for neighbor in graph[vertex]:\n",
    "            queue.append((neighbor, level + 1))\n",
    "\n",
    "    return count\n",
    "\n",
    "\n",
    "# Example tree represented as an adjacency list\n",
    "graph = {\n",
    "    0: [1, 2, 3],\n",
    "    1: [4, 5],\n",
    "    2: [6],\n",
    "    3: [7, 8, 9],\n",
    "    4: [],\n",
    "    5: [],\n",
    "    6: [],\n",
    "    7: [],\n",
    "    8: [],\n",
    "    9: []\n",
    "}\n",
    "\n",
    "start_vertex = 0\n",
    "target_level = 2\n",
    "\n",
    "node_count = count_nodes_at_level(graph, start_vertex, target_level)\n",
    "print(\"Number of nodes at level\", target_level, \":\", node_count)\n"
   ]
  },
  {
   "cell_type": "code",
   "execution_count": null,
   "id": "27a7a7f9",
   "metadata": {},
   "outputs": [],
   "source": []
  },
  {
   "cell_type": "code",
   "execution_count": null,
   "id": "4ad73ef5",
   "metadata": {},
   "outputs": [],
   "source": []
  },
  {
   "cell_type": "code",
   "execution_count": 4,
   "id": "187cf04e",
   "metadata": {},
   "outputs": [
    {
     "name": "stdout",
     "output_type": "stream",
     "text": [
      "Number of trees in the forest: 2\n"
     ]
    }
   ],
   "source": [
    "# 4.Count number of trees in a forest\n",
    "\n",
    "\n",
    "\n",
    "class DisjointSet:\n",
    "    def __init__(self, n):\n",
    "        self.parent = list(range(n))\n",
    "        self.rank = [0] * n\n",
    "        self.count = n\n",
    "\n",
    "    def find(self, x):\n",
    "        if self.parent[x] != x:\n",
    "            self.parent[x] = self.find(self.parent[x])\n",
    "        return self.parent[x]\n",
    "\n",
    "    def union(self, x, y):\n",
    "        root_x = self.find(x)\n",
    "        root_y = self.find(y)\n",
    "\n",
    "        if root_x != root_y:\n",
    "            if self.rank[root_x] < self.rank[root_y]:\n",
    "                self.parent[root_x] = root_y\n",
    "            elif self.rank[root_x] > self.rank[root_y]:\n",
    "                self.parent[root_y] = root_x\n",
    "            else:\n",
    "                self.parent[root_y] = root_x\n",
    "                self.rank[root_x] += 1\n",
    "\n",
    "            self.count -= 1\n",
    "\n",
    "\n",
    "def count_trees_in_forest(adjacency_list):\n",
    "    n = len(adjacency_list)\n",
    "    ds = DisjointSet(n)\n",
    "\n",
    "    for u, neighbors in enumerate(adjacency_list):\n",
    "        for v in neighbors:\n",
    "            ds.union(u, v)\n",
    "\n",
    "    return ds.count\n",
    "\n",
    "\n",
    "adjacency_list = [[1], [0, 2], [], [4], [3, 5], []]\n",
    "\n",
    "tree_count = count_trees_in_forest(adjacency_list)\n",
    "print(\"Number of trees in the forest:\", tree_count)\n"
   ]
  },
  {
   "cell_type": "code",
   "execution_count": null,
   "id": "d21a2e60",
   "metadata": {},
   "outputs": [],
   "source": []
  },
  {
   "cell_type": "code",
   "execution_count": null,
   "id": "724713df",
   "metadata": {},
   "outputs": [],
   "source": []
  },
  {
   "cell_type": "code",
   "execution_count": 5,
   "id": "a09332d5",
   "metadata": {},
   "outputs": [
    {
     "name": "stdout",
     "output_type": "stream",
     "text": [
      "Cycle is present in the graph\n"
     ]
    }
   ],
   "source": [
    "# 5.Detect Cycle in a Directed Graph\n",
    "\n",
    "\n",
    "\n",
    "def is_cycle_present(graph):\n",
    "    visited = set()\n",
    "    recursion_stack = set()\n",
    "\n",
    "    def dfs(vertex):\n",
    "        visited.add(vertex)\n",
    "        recursion_stack.add(vertex)\n",
    "\n",
    "        for neighbor in graph[vertex]:\n",
    "            if neighbor not in visited:\n",
    "                if dfs(neighbor):\n",
    "                    return True\n",
    "            elif neighbor in recursion_stack:\n",
    "                return True\n",
    "\n",
    "        recursion_stack.remove(vertex)\n",
    "        return False\n",
    "\n",
    "    for vertex in graph:\n",
    "        if vertex not in visited:\n",
    "            if dfs(vertex):\n",
    "                return True\n",
    "\n",
    "    return False\n",
    "\n",
    "# Example directed graph represented as an adjacency list\n",
    "graph = {\n",
    "    0: [1],\n",
    "    1: [2],\n",
    "    2: [3, 4],\n",
    "    3: [],\n",
    "    4: [2]\n",
    "}\n",
    "\n",
    "cycle_present = is_cycle_present(graph)\n",
    "if cycle_present:\n",
    "    print(\"Cycle is present in the graph\")\n",
    "else:\n",
    "    print(\"No cycle is present in the graph\")\n"
   ]
  },
  {
   "cell_type": "code",
   "execution_count": null,
   "id": "e27827b7",
   "metadata": {},
   "outputs": [],
   "source": []
  },
  {
   "cell_type": "code",
   "execution_count": 6,
   "id": "f5f6f855",
   "metadata": {},
   "outputs": [
    {
     "name": "stdout",
     "output_type": "stream",
     "text": [
      "Solutions for 4 Queens:\n",
      ". Q . . \n",
      ". . . Q \n",
      "Q . . . \n",
      ". . Q . \n",
      "\n",
      ". . Q . \n",
      "Q . . . \n",
      ". . . Q \n",
      ". Q . . \n",
      "\n"
     ]
    }
   ],
   "source": [
    "# 6.**Implement n-Queen’s Problem\n",
    "\n",
    "\n",
    "def solve_n_queens(n):\n",
    "    def is_safe(board, row, col):\n",
    "        # Check if the current position is safe for a queen\n",
    "        for i in range(row):\n",
    "            if board[i] == col or board[i] - col == i - row or board[i] - col == row - i:\n",
    "                return False\n",
    "        return True\n",
    "\n",
    "    def solve(board, row):\n",
    "        if row == n:\n",
    "            # All queens have been placed, print the solution\n",
    "            print_board(board)\n",
    "            return\n",
    "\n",
    "        for col in range(n):\n",
    "            if is_safe(board, row, col):\n",
    "                board[row] = col\n",
    "                solve(board, row + 1)\n",
    "\n",
    "    def print_board(board):\n",
    "        for row in range(n):\n",
    "            line = \"\"\n",
    "            for col in range(n):\n",
    "                if board[row] == col:\n",
    "                    line += \"Q \"\n",
    "                else:\n",
    "                    line += \". \"\n",
    "            print(line)\n",
    "        print()\n",
    "\n",
    "    board = [-1] * n\n",
    "    solve(board, 0)\n",
    "\n",
    "# Example usage:\n",
    "n = 4\n",
    "print(\"Solutions for\", n, \"Queens:\")\n",
    "solve_n_queens(n)\n"
   ]
  },
  {
   "cell_type": "code",
   "execution_count": null,
   "id": "a8a7d160",
   "metadata": {},
   "outputs": [],
   "source": []
  }
 ],
 "metadata": {
  "kernelspec": {
   "display_name": "Python 3 (ipykernel)",
   "language": "python",
   "name": "python3"
  },
  "language_info": {
   "codemirror_mode": {
    "name": "ipython",
    "version": 3
   },
   "file_extension": ".py",
   "mimetype": "text/x-python",
   "name": "python",
   "nbconvert_exporter": "python",
   "pygments_lexer": "ipython3",
   "version": "3.11.3"
  }
 },
 "nbformat": 4,
 "nbformat_minor": 5
}
