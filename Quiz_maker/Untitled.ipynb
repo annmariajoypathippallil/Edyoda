{
 "cells": [
  {
   "cell_type": "code",
   "execution_count": 166,
   "id": "0f790203",
   "metadata": {},
   "outputs": [],
   "source": [
    "import json\n",
    "import random"
   ]
  },
  {
   "cell_type": "code",
   "execution_count": 172,
   "id": "47c316bf",
   "metadata": {},
   "outputs": [
    {
     "name": "stdout",
     "output_type": "stream",
     "text": [
      "\u001b[1m                                -----Welcome To The Quiz World-----                                 \u001b[0m\n"
     ]
    }
   ],
   "source": [
    "statement = \"-----Welcome To The Quiz World-----\"\n",
    "centered_statement = statement.center(100)\n",
    "formatted_statement = \"\\033[1m\" + centered_statement + \"\\033[0m\"\n",
    "print(formatted_statement)"
   ]
  },
  {
   "cell_type": "code",
   "execution_count": 173,
   "id": "d50831bf",
   "metadata": {},
   "outputs": [],
   "source": [
    "user_answer_dict = {} # \"1\": \"mars\"\n",
    "question_number = 5"
   ]
  },
  {
   "cell_type": "code",
   "execution_count": 174,
   "id": "d74ce016",
   "metadata": {},
   "outputs": [],
   "source": [
    "with open(\"questions.json\") as file:\n",
    "    data = json.load(file)\n",
    "    \n",
    "# print(data)\n",
    "question = dict(data)"
   ]
  },
  {
   "cell_type": "code",
   "execution_count": 175,
   "id": "3852a57d",
   "metadata": {},
   "outputs": [],
   "source": [
    "shuffled_keys = list(question.keys())\n",
    "random.shuffle(shuffled_keys)\n",
    "shuffled_question = {}\n",
    "q_num = 1\n",
    "for i in shuffled_keys:\n",
    "    \n",
    "    \n",
    "    shuffled_question[i] = question[i]\n",
    "    if q_num==question_number:\n",
    "        break\n",
    "    q_num+=1\n",
    "    \n",
    "# print(shuffled_question)\n"
   ]
  },
  {
   "cell_type": "code",
   "execution_count": null,
   "id": "66272d3d",
   "metadata": {},
   "outputs": [],
   "source": []
  },
  {
   "cell_type": "code",
   "execution_count": 180,
   "id": "ac001d78",
   "metadata": {},
   "outputs": [
    {
     "name": "stdout",
     "output_type": "stream",
     "text": [
      "1 .  Which country is known as the Land of the Rising Sun?\n",
      "\t a )  India\n",
      "\t b )  Japan\n",
      "\t c )  China\n",
      "\t d )  Thailand\n",
      "Select an option g\n",
      "Invalid option\n",
      "2 .  What is the chemical symbol for gold?\n",
      "\t a )  Cu\n",
      "\t b )  Ag\n",
      "\t c )  Au\n",
      "\t d )  Fe\n",
      "Select an option t\n",
      "Invalid option\n",
      "3 .  Who is the founder of Microsoft?\n",
      "\t a )  Bill Gates\n",
      "\t b )  Larry Page\n",
      "\t c )  Steve Jobs\n",
      "\t d )  Mark Zuckerberg\n",
      "Select an option a\n",
      "4 .  Which planet is known as the Red Planet?\n",
      "\t a )  Venus\n",
      "\t b )  Saturn\n",
      "\t c )  Jupiter\n",
      "\t d )  Mars\n",
      "Select an option v\n",
      "Invalid option\n",
      "5 .  What is the tallest mountain in the world?\n",
      "\t a )  Mount Everest\n",
      "\t b )  K2\n",
      "\t c )  Kangchenjunga\n",
      "\t d )  Makalu\n",
      "Select an option d\n"
     ]
    }
   ],
   "source": [
    "shuffled_keys = list(question.keys())\n",
    "random.shuffle(shuffled_keys)\n",
    "shuffled_question = {}\n",
    "q_num = 1\n",
    "for i in shuffled_keys:    \n",
    "    shuffled_question[i] = question[i]\n",
    "    if q_num==question_number:\n",
    "        break\n",
    "    q_num+=1\n",
    "    \n",
    "# print(shuffled_question)\n",
    "\n",
    "q_number = 1\n",
    "for quiz in shuffled_question.values():\n",
    "    opt_number = 97\n",
    "    print(q_number,\". \", quiz[1])\n",
    "    answer_options = quiz[2]\n",
    "    random.shuffle(answer_options)\n",
    "    for option in answer_options:\n",
    "        print(\"\\t\",chr(opt_number),\") \", option)\n",
    "        opt_number+=1\n",
    "        \n",
    "    selected_answer = input(\"Select an option \")\n",
    "    if selected_answer not in ['a','b','c','d']:\n",
    "        print(\"Invalid option\")\n",
    "        q_number+=1\n",
    "        continue\n",
    "    else:\n",
    "    \n",
    "        user_answer_dict[quiz[0]] = quiz[2][ord(selected_answer)-97]\n",
    "\n",
    "        q_number+=1\n",
    "\n",
    "    \n",
    "\n",
    "    \n",
    "# print(user_answer_dict)"
   ]
  },
  {
   "cell_type": "code",
   "execution_count": 181,
   "id": "6e117bd7",
   "metadata": {},
   "outputs": [],
   "source": [
    "with open(\"key.json\") as file:\n",
    "    data = json.load(file)\n",
    "    \n",
    "\n",
    "answer_dict = dict(data)\n",
    "# print(answer_dict)"
   ]
  },
  {
   "cell_type": "code",
   "execution_count": 179,
   "id": "d2f5ad92",
   "metadata": {},
   "outputs": [
    {
     "name": "stdout",
     "output_type": "stream",
     "text": [
      "Your Score:  1\n"
     ]
    }
   ],
   "source": [
    "total_marks = 0\n",
    "for i in user_answer_dict.keys():\n",
    "    if user_answer_dict[i] == answer_dict[str(i)]:\n",
    "        total_marks+=1\n",
    "        \n",
    "print(\"Your Score: \",total_marks)"
   ]
  },
  {
   "cell_type": "code",
   "execution_count": 182,
   "id": "9e122079",
   "metadata": {},
   "outputs": [],
   "source": [
    "from prettytable import PrettyTable"
   ]
  },
  {
   "cell_type": "code",
   "execution_count": 208,
   "id": "9ed06790",
   "metadata": {},
   "outputs": [
    {
     "name": "stdout",
     "output_type": "stream",
     "text": [
      "+--------------------------+-------+\n",
      "|   Your detailed report   |       |\n",
      "+--------------------------+-------+\n",
      "|  Total correct answers   |   1   |\n",
      "| Total incorrect answers  |   4   |\n",
      "| -----------------------  | ----- |\n",
      "|       Total marks        |  1/5  |\n",
      "+--------------------------+-------+\n"
     ]
    }
   ],
   "source": [
    "t = PrettyTable()\n",
    "t.field_names=[\"Your detailed report\",\"\"]\n",
    "t.add_row([\"Total correct answers \", total_marks])\n",
    "t.add_row([\"Total incorrect answers \", question_number-total_marks])\n",
    "t.add_row([\"-----------------------\", \"-----\"])\n",
    "t.add_row([\"Total marks\", str(total_marks)+str('/')+str(question_number)])\n",
    "print(t)"
   ]
  },
  {
   "cell_type": "code",
   "execution_count": 204,
   "id": "84172823",
   "metadata": {},
   "outputs": [
    {
     "name": "stdout",
     "output_type": "stream",
     "text": [
      "+--------------------------+----------------------+\n",
      "|   Your detailed report   |                      |\n",
      "+--------------------------+----------------------+\n",
      "|  Total correct answers   |          1           |\n",
      "| Total incorrect answers  |          4           |\n",
      "| -----------------------  | -------------------- |\n",
      "|       Total marks        |         1/5          |\n",
      "+--------------------------+----------------------+\n"
     ]
    }
   ],
   "source": [
    "print(t)"
   ]
  },
  {
   "cell_type": "code",
   "execution_count": null,
   "id": "9c670bee",
   "metadata": {},
   "outputs": [],
   "source": [
    "t.add"
   ]
  }
 ],
 "metadata": {
  "kernelspec": {
   "display_name": "Python 3 (ipykernel)",
   "language": "python",
   "name": "python3"
  },
  "language_info": {
   "codemirror_mode": {
    "name": "ipython",
    "version": 3
   },
   "file_extension": ".py",
   "mimetype": "text/x-python",
   "name": "python",
   "nbconvert_exporter": "python",
   "pygments_lexer": "ipython3",
   "version": "3.11.3"
  }
 },
 "nbformat": 4,
 "nbformat_minor": 5
}
