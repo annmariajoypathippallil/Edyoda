{
 "cells": [
  {
   "cell_type": "code",
   "execution_count": 4,
   "id": "203957e7",
   "metadata": {},
   "outputs": [],
   "source": [
    "import json\n",
    "import random"
   ]
  },
  {
   "cell_type": "code",
   "execution_count": 38,
   "id": "fc246079",
   "metadata": {},
   "outputs": [],
   "source": [
    "user_answer_dict = {} # \"1\": \"mars\"\n",
    "question_number = 2"
   ]
  },
  {
   "cell_type": "code",
   "execution_count": 20,
   "id": "b4a2fa17",
   "metadata": {},
   "outputs": [
    {
     "name": "stdout",
     "output_type": "stream",
     "text": [
      "{'que1': [1, 'What is the capital of France?', ['London', 'Paris', 'Berlin', 'Rome']], 'que2': [2, 'Which planet is known as the Red Planet?', ['Mars', 'Venus', 'Jupiter', 'Saturn']]}\n"
     ]
    }
   ],
   "source": [
    "with open(\"questions.json\") as file:\n",
    "    data = json.load(file)\n",
    "    \n",
    "print(data)\n",
    "question = dict(data)"
   ]
  },
  {
   "cell_type": "code",
   "execution_count": 59,
   "id": "ad183260",
   "metadata": {},
   "outputs": [
    {
     "name": "stdout",
     "output_type": "stream",
     "text": [
      "{'que2': [2, 'Which planet is known as the Red Planet?', ['Mars', 'Venus', 'Jupiter', 'Saturn']], 'que1': [1, 'What is the capital of France?', ['London', 'Paris', 'Berlin', 'Rome']]}\n"
     ]
    }
   ],
   "source": [
    "# shuffled_keys = list(question.keys())\n",
    "# random.shuffle(shuffled_keys)\n",
    "# shuffled_question = {}\n",
    "# for i in shuffled_keys:\n",
    "#     shuffled_question[i] = question[i]\n",
    "    \n",
    "# print(shuffled_question)"
   ]
  },
  {
   "cell_type": "code",
   "execution_count": null,
   "id": "41c33f0e",
   "metadata": {},
   "outputs": [],
   "source": []
  },
  {
   "cell_type": "code",
   "execution_count": 87,
   "id": "70b951b2",
   "metadata": {},
   "outputs": [
    {
     "name": "stdout",
     "output_type": "stream",
     "text": [
      "{'que2': [2, 'Which planet is known as the Red Planet?', ['Mars', 'Venus', 'Jupiter', 'Saturn']], 'que1': [1, 'What is the capital of France?', ['London', 'Paris', 'Berlin', 'Rome']]}\n",
      "1 .  Which planet is known as the Red Planet?\n",
      "\t a )  Mars\n",
      "\t b )  Venus\n",
      "\t c )  Jupiter\n",
      "\t d )  Saturn\n",
      "Select an option sa\n"
     ]
    },
    {
     "ename": "NameError",
     "evalue": "name 'a' is not defined",
     "output_type": "error",
     "traceback": [
      "\u001b[1;31m---------------------------------------------------------------------------\u001b[0m",
      "\u001b[1;31mNameError\u001b[0m                                 Traceback (most recent call last)",
      "Cell \u001b[1;32mIn[87], line 19\u001b[0m\n\u001b[0;32m     15\u001b[0m         opt_number\u001b[38;5;241m+\u001b[39m\u001b[38;5;241m=\u001b[39m\u001b[38;5;241m1\u001b[39m\n\u001b[0;32m     17\u001b[0m     selected_answer \u001b[38;5;241m=\u001b[39m \u001b[38;5;28minput\u001b[39m(\u001b[38;5;124m\"\u001b[39m\u001b[38;5;124mSelect an option \u001b[39m\u001b[38;5;124m\"\u001b[39m)\n\u001b[1;32m---> 19\u001b[0m     user_answer_dict[quiz[\u001b[38;5;241m0\u001b[39m]] \u001b[38;5;241m=\u001b[39m \u001b[38;5;28mord\u001b[39m(\u001b[43ma\u001b[49m)\n\u001b[0;32m     21\u001b[0m     q_number\u001b[38;5;241m+\u001b[39m\u001b[38;5;241m=\u001b[39m\u001b[38;5;241m1\u001b[39m\n\u001b[0;32m     26\u001b[0m \u001b[38;5;28mprint\u001b[39m(user_answer_dict)\n",
      "\u001b[1;31mNameError\u001b[0m: name 'a' is not defined"
     ]
    }
   ],
   "source": [
    "shuffled_keys = list(question.keys())\n",
    "random.shuffle(shuffled_keys)\n",
    "shuffled_question = {}\n",
    "for i in shuffled_keys:\n",
    "    shuffled_question[i] = question[i]\n",
    "    \n",
    "print(shuffled_question)\n",
    "\n",
    "q_number = 1\n",
    "for quiz in shuffled_question.values():\n",
    "    opt_number = 97\n",
    "    print(q_number,\". \", quiz[1])\n",
    "    for option in quiz[2]:\n",
    "        print(\"\\t\",chr(opt_number),\") \", option)\n",
    "        opt_number+=1\n",
    "        \n",
    "    selected_answer = input(\"Select an option \")\n",
    "    \n",
    "    user_answer_dict[quiz[0]] = ord(a)\n",
    "    \n",
    "    q_number+=1\n",
    "    \n",
    "    \n",
    "\n",
    "    \n",
    "print(user_answer_dict)"
   ]
  },
  {
   "cell_type": "code",
   "execution_count": 73,
   "id": "aaf534b7",
   "metadata": {},
   "outputs": [
    {
     "name": "stdout",
     "output_type": "stream",
     "text": [
      "97\n"
     ]
    }
   ],
   "source": []
  },
  {
   "cell_type": "code",
   "execution_count": null,
   "id": "1422084a",
   "metadata": {},
   "outputs": [],
   "source": []
  }
 ],
 "metadata": {
  "kernelspec": {
   "display_name": "Python 3 (ipykernel)",
   "language": "python",
   "name": "python3"
  },
  "language_info": {
   "codemirror_mode": {
    "name": "ipython",
    "version": 3
   },
   "file_extension": ".py",
   "mimetype": "text/x-python",
   "name": "python",
   "nbconvert_exporter": "python",
   "pygments_lexer": "ipython3",
   "version": "3.11.3"
  }
 },
 "nbformat": 4,
 "nbformat_minor": 5
}
